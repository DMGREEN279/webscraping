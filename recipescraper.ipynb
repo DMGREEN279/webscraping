{
 "cells": [
  {
   "cell_type": "code",
   "execution_count": 12,
   "id": "91b95bcb",
   "metadata": {},
   "outputs": [],
   "source": [
    "#scraping project\n",
    "\n",
    "import pandas as pd\n",
    "from bs4 import BeautifulSoup\n",
    "from selenium import webdriver\n",
    "\n",
    "\n",
    "\n"
   ]
  },
  {
   "cell_type": "code",
   "execution_count": 13,
   "id": "3d84cf5c",
   "metadata": {
    "scrolled": true
   },
   "outputs": [],
   "source": [
    "driver = webdriver.Chrome(\"C:\\\\Users\\\\dmg27\\\\Downloads\\\\chromedriver_win32\\\\chromedriver.exe\")\n",
    "#\"C:\\Users\\dmg27\\Downloads\\chromedriver_win32\\chromedriver.exe\""
   ]
  },
  {
   "cell_type": "code",
   "execution_count": 14,
   "id": "1b969bad",
   "metadata": {},
   "outputs": [],
   "source": [
    "driver.get('https://www.allrecipes.com/')"
   ]
  },
  {
   "cell_type": "code",
   "execution_count": 17,
   "id": "c3f96025",
   "metadata": {},
   "outputs": [],
   "source": [
    "from selenium.webdriver.common.keys import Keys\n",
    "html = driver.find_element_by_tag_name('html')\n",
    "html.send_keys(Keys.END)\n",
    "#driver.execute_script(\"window.scrollTo(0, document.body.scrollHeight);\")\n",
    "#might have to loop it a few times to get middle content"
   ]
  },
  {
   "cell_type": "code",
   "execution_count": null,
   "id": "db55be3a",
   "metadata": {},
   "outputs": [],
   "source": []
  }
 ],
 "metadata": {
  "kernelspec": {
   "display_name": "Python 3",
   "language": "python",
   "name": "python3"
  },
  "language_info": {
   "codemirror_mode": {
    "name": "ipython",
    "version": 3
   },
   "file_extension": ".py",
   "mimetype": "text/x-python",
   "name": "python",
   "nbconvert_exporter": "python",
   "pygments_lexer": "ipython3",
   "version": "3.8.8"
  }
 },
 "nbformat": 4,
 "nbformat_minor": 5
}
